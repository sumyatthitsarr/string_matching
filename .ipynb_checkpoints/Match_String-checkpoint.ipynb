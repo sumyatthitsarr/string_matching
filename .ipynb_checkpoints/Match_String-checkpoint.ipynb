{
 "cells": [
  {
   "cell_type": "code",
   "execution_count": 2,
   "id": "921ce1b6",
   "metadata": {},
   "outputs": [],
   "source": [
    "from thefuzz import fuzz\n",
    "from thefuzz import process"
   ]
  },
  {
   "cell_type": "code",
   "execution_count": 4,
   "id": "c714c7c8",
   "metadata": {},
   "outputs": [
    {
     "data": {
      "text/plain": [
       "95"
      ]
     },
     "execution_count": 4,
     "metadata": {},
     "output_type": "execute_result"
    }
   ],
   "source": [
    "fuzz.ratio(\"ကော်ဖီ သောက် ချင်တယ်\", \"ကာဖီ သောက် ချင်တယ်\")"
   ]
  },
  {
   "cell_type": "code",
   "execution_count": 5,
   "id": "cb94ab1f",
   "metadata": {},
   "outputs": [
    {
     "data": {
      "text/plain": [
       "94"
      ]
     },
     "execution_count": 5,
     "metadata": {},
     "output_type": "execute_result"
    }
   ],
   "source": [
    "fuzz.partial_ratio(\"ကော်ဖီ သောက် ချင်တယ်\", \"ကာဖီ သောက် ချင်တယ်\")"
   ]
  },
  {
   "cell_type": "code",
   "execution_count": 6,
   "id": "e4325b38",
   "metadata": {},
   "outputs": [
    {
     "data": {
      "text/plain": [
       "100"
      ]
     },
     "execution_count": 6,
     "metadata": {},
     "output_type": "execute_result"
    }
   ],
   "source": [
    "fuzz.token_sort_ratio(\"ကော်ဖီ သောက် ချင်တယ်\", \"ကာဖီ သောက် ချင်တယ်\")"
   ]
  },
  {
   "cell_type": "code",
   "execution_count": 7,
   "id": "5db41081",
   "metadata": {},
   "outputs": [
    {
     "data": {
      "text/plain": [
       "100"
      ]
     },
     "execution_count": 7,
     "metadata": {},
     "output_type": "execute_result"
    }
   ],
   "source": [
    "fuzz.token_set_ratio(\"ကော်ဖီ သောက် ချင်တယ်\", \"ကာဖီ သောက် ချင်တယ်\")"
   ]
  },
  {
   "cell_type": "markdown",
   "id": "594762b8",
   "metadata": {},
   "source": [
    "# Process"
   ]
  },
  {
   "cell_type": "code",
   "execution_count": 12,
   "id": "46ae5741",
   "metadata": {},
   "outputs": [
    {
     "data": {
      "text/plain": [
       "[('ခေါင်းအုံးစွပ်', 90), ('ခေါင်းတုံးပြောင်', 86)]"
      ]
     },
     "execution_count": 12,
     "metadata": {},
     "output_type": "execute_result"
    }
   ],
   "source": [
    "choices = [\"ခေါင်းညိတ်\", \"ခေါင်းတုံးပြောင်\", \"ခေါင်းအုံးစွပ်\", \"ခေါင်းဖြီး\"]\n",
    "process.extract(\"ခေါင်းအုံး\", choices, limit=2)"
   ]
  },
  {
   "cell_type": "code",
   "execution_count": 15,
   "id": "209bf056",
   "metadata": {},
   "outputs": [
    {
     "data": {
      "text/plain": [
       "('ခေါင်းအုံးစွပ်', 90)"
      ]
     },
     "execution_count": 15,
     "metadata": {},
     "output_type": "execute_result"
    }
   ],
   "source": [
    "process.extractOne(\"ခေါင်းအုံး\", choices)"
   ]
  },
  {
   "cell_type": "markdown",
   "id": "e8bb2ea6",
   "metadata": {},
   "source": [
    "# Levenshtein distance"
   ]
  },
  {
   "cell_type": "code",
   "execution_count": 1,
   "id": "58f98106",
   "metadata": {},
   "outputs": [],
   "source": [
    "import Levenshtein as lvs"
   ]
  },
  {
   "cell_type": "code",
   "execution_count": 18,
   "id": "6a469da3",
   "metadata": {},
   "outputs": [],
   "source": [
    "string1 = 'မနက်ဖြန် မနက်စောစော ဘုရား သွားမယ်'\n",
    "string2 = 'သဘက်ခါ မနက်စောစော ဘုရား သွားမယ်'"
   ]
  },
  {
   "cell_type": "code",
   "execution_count": 19,
   "id": "d5aa5577",
   "metadata": {},
   "outputs": [],
   "source": [
    "edit_distance = lvs.distance(string1, string2)\n",
    "similarity_ratio = lvs.ratio(string1, string2)"
   ]
  },
  {
   "cell_type": "code",
   "execution_count": 20,
   "id": "2b735b7e",
   "metadata": {},
   "outputs": [
    {
     "name": "stdout",
     "output_type": "stream",
     "text": [
      "6\n",
      "0.84375\n"
     ]
    }
   ],
   "source": [
    "print(edit_distance)\n",
    "print(similarity_ratio)"
   ]
  },
  {
   "cell_type": "code",
   "execution_count": null,
   "id": "b8ce9dd0",
   "metadata": {
    "collapsed": true
   },
   "outputs": [],
   "source": []
  },
  {
   "cell_type": "code",
   "execution_count": null,
   "id": "12e163ff",
   "metadata": {},
   "outputs": [],
   "source": []
  }
 ],
 "metadata": {
  "kernelspec": {
   "display_name": "Python 3 (ipykernel)",
   "language": "python",
   "name": "python3"
  },
  "language_info": {
   "codemirror_mode": {
    "name": "ipython",
    "version": 3
   },
   "file_extension": ".py",
   "mimetype": "text/x-python",
   "name": "python",
   "nbconvert_exporter": "python",
   "pygments_lexer": "ipython3",
   "version": "3.9.7"
  }
 },
 "nbformat": 4,
 "nbformat_minor": 5
}
